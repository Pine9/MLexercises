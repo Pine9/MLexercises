{
 "cells": [
  {
   "cell_type": "markdown",
   "id": "clean-content",
   "metadata": {},
   "source": [
    "# Questions\n",
    "\n",
    "Fill in your name and the link to this file on your github.\n",
    "\n",
    "* Name: Emma Adelmann \n",
    "* Link to github URL: https://github.com/Pine9/MLexercises/blob/main/ml_exercises.ipynb"
   ]
  },
  {
   "cell_type": "code",
   "execution_count": 71,
   "id": "laden-virgin",
   "metadata": {},
   "outputs": [],
   "source": [
    "import pandas as pd\n",
    "import numpy as np\n",
    "import scipy.stats as st\n",
    "import matplotlib.pyplot as plt\n",
    "import scipy\n",
    "\n",
    "from sklearn.naive_bayes import GaussianNB\n",
    "from sklearn.naive_bayes import MultinomialNB\n",
    "from sklearn import metrics\n",
    "from sklearn import datasets\n",
    "from sklearn.model_selection import train_test_split\n",
    "from sklearn import linear_model\n",
    "from sklearn.linear_model import LinearRegression\n",
    "from sklearn.datasets import load_iris\n",
    "from sklearn.feature_extraction.text import CountVectorizer\n",
    "from sklearn.cluster import KMeans, AgglomerativeClustering, DBSCAN"
   ]
  },
  {
   "cell_type": "markdown",
   "id": "small-dream",
   "metadata": {},
   "source": [
    "# ML: Linear Regression\n",
    "\n",
    "So this starts with linear regression. If you want a deeper dive than what I cover in class, you can refer to [this page](https://realpython.com/linear-regression-in-python/)\n",
    "\n",
    "The exercises come from this workbook, which has somewhat helpful explanations too: https://csmastersuh.github.io/data_analysis_with_python_2020/linear_regression.html"
   ]
  },
  {
   "cell_type": "markdown",
   "id": "supported-google",
   "metadata": {},
   "source": [
    "# Exercise 10: Linear Regression\n",
    "\n",
    "You'll need to make up some data for this. Don't spend too much time on this one, it's less interesting compared to the others."
   ]
  },
  {
   "cell_type": "code",
   "execution_count": 21,
   "id": "distinct-sensitivity",
   "metadata": {},
   "outputs": [
    {
     "name": "stdout",
     "output_type": "stream",
     "text": [
      "Slope: [1.98666128]\n",
      "Intercept: 1.3141150629146345\n"
     ]
    },
    {
     "data": {
      "image/png": "[encoded data removed]",
      "text/plain": [
       "<Figure size 432x288 with 1 Axes>"
      ]
     },
     "metadata": {
      "needs_background": "light"
     },
     "output_type": "display_data"
    }
   ],
   "source": [
    "def fit_line(x, y):    \n",
    "    \"\"\"n=20\n",
    "    # Linearly increasing x values\n",
    "    x = x.reshape((-1, 1))\n",
    "    # Wonky line of points\n",
    "    y = y.reshape((-1, 1))\n",
    "    display(x, y)\n",
    "    plt.scatter(x, y)\n",
    "    plt.show()\"\"\"\n",
    "\n",
    "    # Do actual linear regression here\n",
    "    model = LinearRegression(fit_intercept = True).fit(x[:,np.newaxis], y)\n",
    "    return model.coef_,  model.intercept_\n",
    "\n",
    "x = np.linspace(0, 10, n)\n",
    "y = x*2 + 1 + 1*np.random.randn(n)\n",
    "tup = fit_line(x, y)\n",
    "print('Slope:', tup[0])\n",
    "print('Intercept:', tup[1])\n",
    "plt.scatter(x, y)\n",
    "xfit = np.linspace(0,10,100)\n",
    "yfit = tup[0]*xfit + tup[1]\n",
    "plt.plot(xfit, yfit)\n",
    "plt.show()"
   ]
  },
  {
   "cell_type": "markdown",
   "id": "juvenile-grant",
   "metadata": {},
   "source": [
    "# Exercise 11: Mystery Data\n",
    "\n",
    "This one is far more interesting. You can download the file from [here](https://raw.githubusercontent.com/AnkS4/hy-data-analysis-with-python-2020/master/part05-e11_mystery_data/src/mystery_data.tsv). Make sure it gets the right filename!\n",
    "\n",
    "You don't need to define any functions, as they demand, although you might find that helpful to do."
   ]
  },
  {
   "cell_type": "code",
   "execution_count": 7,
   "id": "focal-water",
   "metadata": {},
   "outputs": [
    {
     "name": "stdout",
     "output_type": "stream",
     "text": [
      "Coefficient of X1 is 2.9999999999999947\n",
      "Coefficient of X2 is -1.0000000000000009\n",
      "Coefficient of X3 is 6.999999999999995\n",
      "Coefficient of X4 is -1.3322676295501878e-15\n",
      "Coefficient of X5 is -19.999999999999993\n"
     ]
    }
   ],
   "source": [
    "def mystery_data():\n",
    "    df = pd.read_csv(\"mystery_data.tsv\", sep=\"\\t\")\n",
    "    model = LinearRegression(fit_intercept = False)\n",
    "    model.fit(df.iloc[:,0:5], df.iloc[:,5])\n",
    "    return model.coef_\n",
    "\n",
    "\n",
    "coefficients = mystery_data()\n",
    "\n",
    "for i in range(len(coefficients)):\n",
    "    print(f\"Coefficient of X{i + 1} is {coefficients[i]}\")"
   ]
  },
  {
   "cell_type": "markdown",
   "id": "cross-pilot",
   "metadata": {},
   "source": [
    "## Exercise 12: Coefficient of Determination\n",
    "\n",
    "Read over this entire problem, parts 1 and 2.\n",
    "\n",
    "This reuses the same `mystery_data.tsv` file as before.\n",
    "\n",
    "Again, you do not need to define their function. Just calculate the R2 scores and print them, as they direct."
   ]
  },
  {
   "cell_type": "code",
   "execution_count": 15,
   "id": "smoking-practitioner",
   "metadata": {},
   "outputs": [
    {
     "name": "stdout",
     "output_type": "stream",
     "text": [
      "R2-score with feature(s) X:  1.0\n",
      "R2-score with feature(s) X1: 0.01691827260276857\n",
      "R2-score with feature(s) X2: 0.008964585308688933\n",
      "R2-score with feature(s) X3: 0.08785404530656282\n",
      "R2-score with feature(s) X4: 0.0003023708825460325\n",
      "R2-score with feature(s) X5: 0.8679744020096123\n"
     ]
    }
   ],
   "source": [
    "def coefficient_of_determination():\n",
    "    df = pd.read_csv(\"mystery_data.tsv\", sep=\"\\t\")\n",
    "    x = df.iloc[:,0:5]\n",
    "    y = df.iloc[:,5]\n",
    "    model = linear_model.LinearRegression(fit_intercept = True).fit(x, y)\n",
    "    model.fit(df.iloc[:,0:5], df.iloc[:,5])\n",
    "    scores = [model.score(x, y)]\n",
    "    for i in x:\n",
    "        model.fit(df[i].values.reshape(-1, 1), y)\n",
    "        score = model.score(df[i].values.reshape(-1, 1), y)\n",
    "        scores.append(score)\n",
    "    return scores\n",
    "    \n",
    "scores = coefficient_of_determination()\n",
    "print('R2-score with feature(s) X: ', scores[0])\n",
    "for j in range(1, len(scores)):\n",
    "    print(f'R2-score with feature(s) X{j}:', scores[j])"
   ]
  },
  {
   "cell_type": "markdown",
   "id": "italian-evans",
   "metadata": {},
   "source": [
    "## Exercise 13: Cycling Weather\n",
    "\n",
    "I've already prepared the data that they require for this assignment. You can download it [here](https://gist.githubusercontent.com/acbart/466174a04e9a2505c4c25f91fc6dd4f6/raw/726865070677ec7dede17a08095624e0ea35e7cd/biking.csv).\n",
    "\n",
    "The first column is the index, you can safely ignore it. The next 7 columns are straightforward. The last few columns are locations in Finland that have measuring stations. I recommend using `Baana` as they say in the instructions for testing.\n"
   ]
  },
  {
   "cell_type": "code",
   "execution_count": 19,
   "id": "coupled-draft",
   "metadata": {},
   "outputs": [
    {
     "name": "stdout",
     "output_type": "stream",
     "text": [
      "Measuring station: Baana\n",
      "Regression coefficient for variable 'precipitation': -52.2\n",
      "Regression coefficient for variable 'snow depth': -32.9\n",
      "Regression coefficient for variable 'temperature': 169.2\n",
      "Score: 0.58\n"
     ]
    }
   ],
   "source": [
    "def cycling_weather_continues(station):\n",
    "    df = pd.read_csv(\"biking.csv\")\n",
    "    model = linear_model.LinearRegression(fit_intercept = True)\n",
    "    x = df[['Precipitation amount (mm)', 'Snow depth (cm)', 'Air temperature (degC)']]\n",
    "    y = df[[station]]\n",
    "    model.fit(x, y)\n",
    "    return model.coef_[0], model.score(x, y)\n",
    "\n",
    "coefficient, score = cycling_weather_continues(\"Baana\")\n",
    "print(\"Measuring station: Baana\")\n",
    "print(f\"Regression coefficient for variable 'precipitation': {coefficient[0]:.1f}\")\n",
    "print(f\"Regression coefficient for variable 'snow depth': {coefficient[1]:.1f}\")\n",
    "print(f\"Regression coefficient for variable 'temperature': {coefficient[2]:.1f}\")\n",
    "print(f\"Score: {score:.2f}\")"
   ]
  },
  {
   "cell_type": "markdown",
   "id": "following-branch",
   "metadata": {},
   "source": [
    "# ML Naive Bayes Classification\n",
    "\n",
    "This is the next section of the exercises, from: https://csmastersuh.github.io/data_analysis_with_python_2020/bayes.html\n",
    "\n",
    "In addition to the reading, I recommend this video: https://www.youtube.com/watch?v=CPqOCI0ahss\n",
    "\n",
    "\n",
    "## Exercise 1: Blob Classification\n",
    "\n",
    "(**OPTIONAL**) This one is very vague, and they're actually asking you to generate your own test data using the `make_blobs` function from `sklearn`'s `datasets` submodule. I've already started that work for you. But honestly if you want to skip it, I don't think it's a helpful starting question."
   ]
  },
  {
   "cell_type": "code",
   "execution_count": 9,
   "id": "checked-protein",
   "metadata": {},
   "outputs": [
    {
     "name": "stdout",
     "output_type": "stream",
     "text": [
      "The accuracy score is None\n",
      "array([[2.0, 2.0, 0.0, 2.5, None],\n",
      "       [2.0, 3.0, 1.0, 1.5, None],\n",
      "       [2.0, 2.0, 6.0, 3.5, None],\n",
      "       [2.0, 2.0, 3.0, 1.2, None],\n",
      "       [2.0, 4.0, 4.0, 2.7, None]], dtype=object)\n"
     ]
    }
   ],
   "source": [
    "def blob_classification(X, y):\n",
    "    # Put ML stuff here\n",
    "    pass\n",
    "\n",
    "# Create the training data and validation data\n",
    "X, y = datasets.make_blobs(100, 2, centers=2, random_state=2, cluster_std=2.5)\n",
    "# Run your ML predictions\n",
    "print(\"The accuracy score is\", blob_classification(X, y))\n",
    "# Run this on some new data\n",
    "a=np.array([[2, 2, 0, 2.5],\n",
    "            [2, 3, 1, 1.5],\n",
    "            [2, 2, 6, 3.5],\n",
    "            [2, 2, 3, 1.2],\n",
    "            [2, 4, 4, 2.7]])\n",
    "accuracies = []\n",
    "for row in a:\n",
    "    X,y = datasets.make_blobs(100, int(row[0]), centers=int(row[1]),\n",
    "                              random_state=int(row[2]), cluster_std=row[3])\n",
    "    accuracies.append(blob_classification(X, y))\n",
    "print(repr(np.hstack([a, np.array(accuracies)[:,np.newaxis]])))\n",
    "# The last column should be the categorizations"
   ]
  },
  {
   "cell_type": "markdown",
   "id": "fourth-harris",
   "metadata": {},
   "source": [
    "## Exercise 2: Plant Classification\n",
    "\n",
    "This is a much better question. The Iris dataset is a classic: https://en.wikipedia.org/wiki/Iris_flower_data_set\n",
    "\n",
    "The wikipedia page gives an example of how to load the dataset."
   ]
  },
  {
   "cell_type": "code",
   "execution_count": 4,
   "id": "latest-parks",
   "metadata": {},
   "outputs": [
    {
     "name": "stdout",
     "output_type": "stream",
     "text": [
      "Accuracy: 0.9666666666666667\n"
     ]
    }
   ],
   "source": [
    "def plant_classification():\n",
    "    iris = load_iris()\n",
    "    X_train, X_test, y_train, y_test = train_test_split(iris.data, iris.target, train_size=0.8, random_state=0)\n",
    "    model = GaussianNB().fit(X_train, y_train)\n",
    "    return metrics.accuracy_score(y_test, model.predict(X_test))\n",
    "\n",
    "accuracy = plant_classification()\n",
    "print(\"Accuracy:\", accuracy)"
   ]
  },
  {
   "cell_type": "markdown",
   "id": "obvious-philip",
   "metadata": {},
   "source": [
    "## Exercise 3: Word Classification\n",
    "\n",
    "(**Skip**)\n",
    "\n",
    "This one is too much. They give some of the data as an XML file. It's an interesting problem, and you can find the data (and solution) [here](https://github.com/AnkS4/hy-data-analysis-with-python-2020/tree/master/part06-e03_word_classification/src) if you want to tackle it, but I'm skipping it.\n"
   ]
  },
  {
   "cell_type": "code",
   "execution_count": null,
   "id": "viral-bundle",
   "metadata": {},
   "outputs": [],
   "source": []
  },
  {
   "cell_type": "markdown",
   "id": "parental-fellowship",
   "metadata": {},
   "source": [
    "## Exercise 4: Spam Detection\n",
    "\n",
    "Download [ham.txt.gz](https://github.com/AnkS4/hy-data-analysis-with-python-2020/raw/master/part06-e04_spam_detection/src/ham.txt.gz) and [spam.txt.gz](https://github.com/AnkS4/hy-data-analysis-with-python-2020/raw/master/part06-e04_spam_detection/src/spam.txt.gz).\n",
    "\n",
    "This one is much more interesting and reasonable. It requires processing some large text files, but that's actually the easiest part, as shown in the code below. The idea is that you have spam (bad emails) and ham (good emails), and you want to determine which is which. I've done similar email processing (detecting job ads for a conference) and I was impressed with how easily I could train a little data and get very good results."
   ]
  },
  {
   "cell_type": "code",
   "execution_count": 23,
   "id": "interested-liberia",
   "metadata": {},
   "outputs": [
    {
     "name": "stdout",
     "output_type": "stream",
     "text": [
      "Number of spam emails loaded as strings: 500\n",
      "Number of ham emails loaded as strings: 2500\n",
      "Accuracy Score: 0.9693333333333334\n",
      "Total: 750\n",
      "Misclassified: 22\n"
     ]
    }
   ],
   "source": [
    "import gzip\n",
    "\n",
    "# Load the spam emails as strings in a list.\n",
    "with gzip.open('spam.txt.gz', 'rb') as spam_file:\n",
    "    spam = spam_file.readlines()\n",
    "print(\"Number of spam emails loaded as strings:\", len(spam))\n",
    "\n",
    "# Now do the same thing with the `ham.txt.gz`\n",
    "with gzip.open('ham.txt.gz', 'rb') as ham_file:\n",
    "    ham = ham_file.readlines()\n",
    "print(\"Number of ham emails loaded as strings:\", len(ham))\n",
    "\n",
    "# And then do the actual ML stuff\n",
    "X = ham + spam\n",
    "X = CountVectorizer().fit_transform(X)\n",
    "y = []\n",
    "\n",
    "for i in range(len(ham)):\n",
    "    y.append(0)\n",
    "for i in range(len(spam)):\n",
    "    y.append(1)\n",
    "\n",
    "X_train, X_test, y_train, y_test = train_test_split(X.toarray(), y, random_state=0, train_size=0.75)\n",
    "model = MultinomialNB().fit(X_train, y_train)\n",
    "predicted = model.predict(X_test)\n",
    "acc_score = metrics.accuracy_score(y_test, predicted)\n",
    "print(\"Accuracy Score:\", acc_score) \n",
    "print(\"Total:\", len(X_test))\n",
    "print(\"Misclassified:\", int((1 - acc_score) * len(predicted)))"
   ]
  },
  {
   "cell_type": "markdown",
   "id": "public-natural",
   "metadata": {},
   "source": [
    "# ML Clustering\n",
    "\n",
    "This is the last section: https://csmastersuh.github.io/data_analysis_with_python_2020/clustering.html\n",
    "\n",
    "This section is one of the most interesting in my opinion. K-Means is a pretty straightforward tool, and is really worth learning how to use it."
   ]
  },
  {
   "cell_type": "markdown",
   "id": "revolutionary-smooth",
   "metadata": {},
   "source": [
    "## Exercise 5: Plant Clustering\n",
    "\n",
    "Same deal as before; use the IRIS dataset. Since this has so many parameters, it can be tricky to make a good visualization."
   ]
  },
  {
   "cell_type": "code",
   "execution_count": 29,
   "id": "latin-handle",
   "metadata": {},
   "outputs": [
    {
     "name": "stdout",
     "output_type": "stream",
     "text": [
      "Accuracy: 0.8933333333333333\n"
     ]
    }
   ],
   "source": [
    "# this is from the tutorial\n",
    "def find_permutation(n_clusters, real_labels, labels):\n",
    "    permutation=[]\n",
    "    for i in range(n_clusters):\n",
    "        idx = labels == i\n",
    "        new_label=scipy.stats.mode(real_labels[idx])[0][0]  # Choose the most common label among data points in the cluster\n",
    "        permutation.append(new_label)\n",
    "    return permutation\n",
    "\n",
    "def plant_clustering():\n",
    "    iris = load_iris()\n",
    "    model = KMeans(3)\n",
    "    model.fit(iris.data)\n",
    "    permutation = find_permutation(3, iris.target, model.labels_)\n",
    "    new_labels = [ permutation[label] for label in model.labels_]\n",
    "    return metrics.accuracy_score(iris.target, new_labels)\n",
    "\n",
    "print(\"Accuracy:\", plant_clustering())"
   ]
  },
  {
   "cell_type": "markdown",
   "id": "floating-employer",
   "metadata": {},
   "source": [
    "## Exercise 6: Non-convex Clusters\n",
    "\n",
    "The data for this question is [here](https://raw.githubusercontent.com/AnkS4/hy-data-analysis-with-python-2020/master/part06-e06_nonconvex_clusters/src/data.tsv).\n",
    "\n",
    "This one shows off a different clustering algorithm ([`DBSCAN`](https://scikit-learn.org/stable/modules/generated/sklearn.cluster.DBSCAN.html)), which is \"Good for data which contains clusters of similar density\". I wasn't very familiar with DBSCAN, but it does seem much better than KMeans. It doesn't require you to figure out the number of clusters, and seems to be tricked less by unusual data. [This page](https://www.kdnuggets.com/2020/04/dbscan-clustering-algorithm-machine-learning.html) was very helpful in breaking that difference down.\n",
    "\n",
    "The reference answer uses a `for` loop and `np.arange` to try `e` values from 0.05 to 0.2 in 0.05 increments, but I don't mind if you just manually try some different `e` values.\n",
    "\n",
    "Please do make a visualization with clusters colored, since I think that really highlights what we are doing!"
   ]
  },
  {
   "cell_type": "code",
   "execution_count": 100,
   "id": "sized-antigua",
   "metadata": {},
   "outputs": [
    {
     "name": "stdout",
     "output_type": "stream",
     "text": [
      "    eps  Score  Clusters  Outliers\n",
      "0  0.05    NaN        73      1082\n",
      "1  0.10    NaN         4        59\n",
      "2  0.15  0.993         2         7\n",
      "3  0.20  0.999         2         1\n"
     ]
    },
    {
     "data": {
      "image/png": "[encoded data removed]",
      "text/plain": [
       "<Figure size 432x288 with 1 Axes>"
      ]
     },
     "metadata": {
      "needs_background": "light"
     },
     "output_type": "display_data"
    }
   ],
   "source": [
    "from sklearn.preprocessing import StandardScaler\n",
    "\n",
    "df = pd.read_csv(\"data.tsv\", sep='\\t')\n",
    "X = df[[\"X1\",\"X2\"]]\n",
    "X = StandardScaler().fit_transform(X)\n",
    "y = df['y']\n",
    "# as provided in exercise\n",
    "values = np.arange(0.05, 0.2, 0.05)\n",
    "lst = []\n",
    "num_unique = len(np.unique(y))\n",
    "\n",
    "for v in values:\n",
    "    model = DBSCAN(v).fit(X)\n",
    "    num_clusters = max(model.labels_) + 1\n",
    "    \n",
    "    if num_clusters != num_unique:\n",
    "        score = np.nan\n",
    "    else:\n",
    "        permutation = find_permutation(num_clusters, y, model.labels_)\n",
    "        new_labels = [ permutation[label] for label in model.labels_[model.labels_ != 1] ]\n",
    "        score = metrics.accuracy_score(y[model.labels_ != 1], new_labels)\n",
    "        \n",
    "    lst.append([v, score, num_clusters, np.sum(model.labels_ == -1)])\n",
    "    \n",
    "df2 = pd.DataFrame(data=lst, columns=[\"eps\", \"Score\", \"Clusters\", \"Outliers\"])\n",
    "print(df2)\n",
    "\n",
    "# plotting: https://scikit-learn.org/stable/auto_examples/cluster/plot_dbscan.html\n",
    "# Unsure if I did this correctly - the viz does look cool, though\n",
    "unique_labels = set(model.labels_)\n",
    "core_samples_mask = np.zeros_like(model.labels_, dtype=bool)\n",
    "colors = [plt.cm.Spectral(each)\n",
    "          for each in np.linspace(0, 1, len(unique_labels))]\n",
    "for k, col in zip(unique_labels, colors):\n",
    "    if k == -1:\n",
    "        # Black used for noise.\n",
    "        col = [0, 0, 0, 1]\n",
    "\n",
    "    class_member_mask = (model.labels_ == k)\n",
    "\n",
    "    xy = X[class_member_mask & core_samples_mask]\n",
    "    plt.plot(xy[:, 0], xy[:, 1], 'o', markerfacecolor=tuple(col),\n",
    "             markeredgecolor='k', markersize=14)\n",
    "\n",
    "    xy = X[class_member_mask & ~core_samples_mask]\n",
    "    plt.plot(xy[:, 0], xy[:, 1], 'o', markerfacecolor=tuple(col),\n",
    "             markeredgecolor='k', markersize=6)\n",
    "\n",
    "# plt.title('Estimated number of clusters: %d' % n_clusters_)\n",
    "plt.show()"
   ]
  },
  {
   "cell_type": "markdown",
   "id": "forty-taste",
   "metadata": {},
   "source": [
    "## Exercise 7: Binding Sites\n",
    "\n",
    "Download the [`data.seq` file](https://raw.githubusercontent.com/AnkS4/hy-data-analysis-with-python-2020/master/part06-e07_binding_sites/src/data.seq); note that it is just a plain textual data file, despite the fancy extension.\n",
    "\n",
    "They ask you to define `get_features_and_labels` to accept a filename, even though there's only one test file. Up to you if you want to hardcode the file path in or make it a flexible function.\n",
    "\n",
    "There are multiple parts here, and they ask you to compare the euclidean and hamming distance. I think it's worth thinking about - if you don't get what they mean, do ask!"
   ]
  },
  {
   "cell_type": "code",
   "execution_count": 69,
   "id": "caroline-salem",
   "metadata": {},
   "outputs": [
    {
     "name": "stdout",
     "output_type": "stream",
     "text": [
      "Euclidean Accuracy: 0.9895\n",
      "Hamming Accuracy: 0.9985\n"
     ]
    }
   ],
   "source": [
    "# The `find_permutation` function provided in the text, for your convenience\n",
    "def find_permutation(n_clusters, real_labels, labels):\n",
    "    permutation=[]\n",
    "    for i in range(n_clusters):\n",
    "        idx = labels == i\n",
    "        # Choose the most common label among data points in the cluster\n",
    "        new_label=scipy.stats.mode(real_labels[idx])[0][0]\n",
    "        permutation.append(new_label)\n",
    "    return permutation\n",
    "\n",
    "def toint(nucleotide):\n",
    "    letters = \"ACGT\"\n",
    "    # ints just correspond to the indices\n",
    "    return letters.index(nucleotide)\n",
    "\n",
    "def get_features_and_labels(filename):\n",
    "    df = pd.read_csv(filename, sep='\\t')\n",
    "    X = df['X'].apply(lambda x: [toint(ch) for ch in x]).tolist()\n",
    "    return np.array(X), df['y']\n",
    "\n",
    "def cluster_euclidean(filename):\n",
    "    X, y = get_features_and_labels(filename)\n",
    "    model = AgglomerativeClustering(linkage=\"average\", affinity=\"euclidean\").fit(X)\n",
    "    permutation = find_permutation(2, y, model.labels_)\n",
    "    new_labels = [ permutation[label] for label in model.labels_]\n",
    "    return metrics.accuracy_score(y, new_labels)\n",
    "\n",
    "def cluster_hamming(filename):\n",
    "    X, y = get_features_and_labels(filename)\n",
    "    dist = metrics.pairwise_distances(X, metric=\"hamming\")\n",
    "    model = AgglomerativeClustering(linkage=\"average\", affinity=\"precomputed\").fit(dist)\n",
    "    permutation = find_permutation(2, y, model.labels_)\n",
    "    new_labels = [ permutation[label] for label in model.labels_]\n",
    "    return metrics.accuracy_score(y, new_labels)\n",
    "\n",
    "euclidean = cluster_euclidean(\"data.seq\")\n",
    "hamming = cluster_hamming(\"data.seq\")\n",
    "print(\"Euclidean Accuracy:\", euclidean)\n",
    "print(\"Hamming Accuracy:\", hamming)"
   ]
  },
  {
   "cell_type": "markdown",
   "id": "indie-mobile",
   "metadata": {},
   "source": [
    "The Hamming distance is more suitable in this case. Euclidean distance tends to measure distance between two points on a plane, whereas Hamming is meant to compare differences between strings."
   ]
  },
  {
   "cell_type": "code",
   "execution_count": null,
   "id": "sustained-stamp",
   "metadata": {},
   "outputs": [],
   "source": []
  }
 ],
 "metadata": {
  "kernelspec": {
   "display_name": "Python 3",
   "language": "python",
   "name": "python3"
  },
  "language_info": {
   "codemirror_mode": {
    "name": "ipython",
    "version": 3
   },
   "file_extension": ".py",
   "mimetype": "text/x-python",
   "name": "python",
   "nbconvert_exporter": "python",
   "pygments_lexer": "ipython3",
   "version": "3.9.1"
  }
 },
 "nbformat": 4,
 "nbformat_minor": 5
}
